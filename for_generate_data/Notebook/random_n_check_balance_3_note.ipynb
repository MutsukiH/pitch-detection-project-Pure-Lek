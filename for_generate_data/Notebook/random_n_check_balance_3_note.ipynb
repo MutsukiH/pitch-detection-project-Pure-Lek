{
 "cells": [
  {
   "cell_type": "code",
   "execution_count": 35,
   "metadata": {},
   "outputs": [],
   "source": [
    "import pandas as pd\n",
    "import matplotlib as plt\n",
    "\n",
    "import ast\n",
    "import random\n",
    "from sklearn.model_selection import train_test_split"
   ]
  },
  {
   "cell_type": "code",
   "execution_count": 53,
   "metadata": {},
   "outputs": [],
   "source": [
    "data_all = pd.read_csv(\"../../data/ref_3_note_200_test.csv\")\n",
    "# data_all['label'] = data_all['label'].str.replace('.wav', '').str.split('_')\n",
    "# data_all.to_csv(\"../../data/ref_3_note_1000sample_tolerance_15.csv\", index=False)\n",
    "# แปลงคอลัมน์ 'label' ให้เป็น list of list\n",
    "data_all['label'] = data_all['label'].apply(ast.literal_eval)"
   ]
  },
  {
   "cell_type": "code",
   "execution_count": 46,
   "metadata": {},
   "outputs": [],
   "source": [
    "# กรองข้อมูลเฉพาะที่มีความยาว 3\n",
    "data_3_note = data_all[data_all['label'].apply(len) == 3]\n",
    "data_4_note = data_all[data_all['label'].apply(len) == 4]\n",
    "data_5_note = data_all[data_all['label'].apply(len) == 5]\n",
    "data_6_note = data_all[data_all['label'].apply(len) == 6]\n",
    "data_7_note = data_all[data_all['label'].apply(len) == 7]\n",
    "data_8_note = data_all[data_all['label'].apply(len) == 8]\n",
    "data_9_note = data_all[data_all['label'].apply(len) == 9]\n",
    "data_10_note = data_all[data_all['label'].apply(len) == 10]\n"
   ]
  },
  {
   "cell_type": "code",
   "execution_count": 54,
   "metadata": {},
   "outputs": [
    {
     "name": "stdout",
     "output_type": "stream",
     "text": [
      "3\n",
      "2\n",
      "4\n"
     ]
    },
    {
     "data": {
      "text/plain": [
       "<Axes: >"
      ]
     },
     "execution_count": 54,
     "metadata": {},
     "output_type": "execute_result"
    },
    {
     "data": {
      "image/png": "[encoded data removed]",
      "text/plain": [
       "<Figure size 720x432 with 1 Axes>"
      ]
     },
     "metadata": {
      "needs_background": "light"
     },
     "output_type": "display_data"
    }
   ],
   "source": [
    "# data_all['label'] = data_all['label'].str.replace('.wav', '').str.split('_')\n",
    "# y_train_check = pd.DataFrame(data_3_note[\"label\"].apply(ast.literal_eval).tolist(), index=data_3_note.index, columns=['note1', 'note2', 'note3'])\n",
    "y_train_check = pd.DataFrame(data_all[\"label\"].tolist(), index=data_all.index, columns=['note1', 'note2', 'note3'])\n",
    "\n",
    "# Count the frequency of each item in 'note1', 'note2', 'note3'\n",
    "freq_item1 = y_train_check['note1'].value_counts()\n",
    "freq_item2 = y_train_check['note2'].value_counts()\n",
    "freq_item3 = y_train_check['note3'].value_counts()\n",
    "\n",
    "print(max(freq_item1) - min(freq_item1))\n",
    "print(max(freq_item2) - min(freq_item2))\n",
    "print(max(freq_item3) - min(freq_item3))\n",
    "\n",
    "# Create a DataFrame for the frequency data\n",
    "freq_df = pd.DataFrame({'Item1': freq_item1, 'Item2': freq_item2, 'Item3': freq_item3}).fillna(0)\n",
    "\n",
    "# Plot a bar chart\n",
    "freq_df.plot(kind='bar', figsize=(10, 6))"
   ]
  },
  {
   "cell_type": "code",
   "execution_count": 613,
   "metadata": {},
   "outputs": [
    {
     "data": {
      "text/html": [
       "<div>\n",
       "<style scoped>\n",
       "    .dataframe tbody tr th:only-of-type {\n",
       "        vertical-align: middle;\n",
       "    }\n",
       "\n",
       "    .dataframe tbody tr th {\n",
       "        vertical-align: top;\n",
       "    }\n",
       "\n",
       "    .dataframe thead th {\n",
       "        text-align: right;\n",
       "    }\n",
       "</style>\n",
       "<table border=\"1\" class=\"dataframe\">\n",
       "  <thead>\n",
       "    <tr style=\"text-align: right;\">\n",
       "      <th></th>\n",
       "      <th>File Name</th>\n",
       "      <th>label</th>\n",
       "    </tr>\n",
       "  </thead>\n",
       "  <tbody>\n",
       "    <tr>\n",
       "      <th>263</th>\n",
       "      <td>wav_GBC7110.wav</td>\n",
       "      <td>[7,11,0]</td>\n",
       "    </tr>\n",
       "    <tr>\n",
       "      <th>72</th>\n",
       "      <td>wav_AC#A919.wav</td>\n",
       "      <td>[9,1,9]</td>\n",
       "    </tr>\n",
       "    <tr>\n",
       "      <th>834</th>\n",
       "      <td>wav_BAB11911.wav</td>\n",
       "      <td>[11,9,11]</td>\n",
       "    </tr>\n",
       "    <tr>\n",
       "      <th>101</th>\n",
       "      <td>wav_EbFBb3510.wav</td>\n",
       "      <td>[3,5,10]</td>\n",
       "    </tr>\n",
       "    <tr>\n",
       "      <th>729</th>\n",
       "      <td>wav_EDF425.wav</td>\n",
       "      <td>[4,2,5]</td>\n",
       "    </tr>\n",
       "    <tr>\n",
       "      <th>...</th>\n",
       "      <td>...</td>\n",
       "      <td>...</td>\n",
       "    </tr>\n",
       "    <tr>\n",
       "      <th>670</th>\n",
       "      <td>wav_AGE974.wav</td>\n",
       "      <td>[9,7,4]</td>\n",
       "    </tr>\n",
       "    <tr>\n",
       "      <th>507</th>\n",
       "      <td>wav_BEEb1143.wav</td>\n",
       "      <td>[11,4,3]</td>\n",
       "    </tr>\n",
       "    <tr>\n",
       "      <th>471</th>\n",
       "      <td>wav_BbDC1020.wav</td>\n",
       "      <td>[10,2,0]</td>\n",
       "    </tr>\n",
       "    <tr>\n",
       "      <th>406</th>\n",
       "      <td>wav_AbCE804.wav</td>\n",
       "      <td>[8,0,4]</td>\n",
       "    </tr>\n",
       "    <tr>\n",
       "      <th>997</th>\n",
       "      <td>wav_BBbB111011.wav</td>\n",
       "      <td>[11,10,11]</td>\n",
       "    </tr>\n",
       "  </tbody>\n",
       "</table>\n",
       "<p>600 rows × 2 columns</p>\n",
       "</div>"
      ],
      "text/plain": [
       "              File Name       label\n",
       "263     wav_GBC7110.wav    [7,11,0]\n",
       "72      wav_AC#A919.wav     [9,1,9]\n",
       "834    wav_BAB11911.wav   [11,9,11]\n",
       "101   wav_EbFBb3510.wav    [3,5,10]\n",
       "729      wav_EDF425.wav     [4,2,5]\n",
       "..                  ...         ...\n",
       "670      wav_AGE974.wav     [9,7,4]\n",
       "507    wav_BEEb1143.wav    [11,4,3]\n",
       "471    wav_BbDC1020.wav    [10,2,0]\n",
       "406     wav_AbCE804.wav     [8,0,4]\n",
       "997  wav_BBbB111011.wav  [11,10,11]\n",
       "\n",
       "[600 rows x 2 columns]"
      ]
     },
     "execution_count": 613,
     "metadata": {},
     "output_type": "execute_result"
    }
   ],
   "source": [
    "train_data = pd.concat([X_train, y_train], axis=1)\n",
    "train_data"
   ]
  },
  {
   "cell_type": "code",
   "execution_count": 26,
   "metadata": {},
   "outputs": [],
   "source": [
    "data_val_test = pd.read_csv('../../data/ref_3_note_val_test.csv')"
   ]
  },
  {
   "cell_type": "code",
   "execution_count": 28,
   "metadata": {},
   "outputs": [
    {
     "data": {
      "text/plain": [
       "<Axes: >"
      ]
     },
     "execution_count": 28,
     "metadata": {},
     "output_type": "execute_result"
    },
    {
     "data": {
      "image/png": "[encoded data removed]",
      "text/plain": [
       "<Figure size 720x432 with 1 Axes>"
      ]
     },
     "metadata": {
      "needs_background": "light"
     },
     "output_type": "display_data"
    }
   ],
   "source": [
    "y_train_check = pd.DataFrame(data_val_test['label'].apply(ast.literal_eval).tolist(), index=data_val_test['label'].index, columns=['note1', 'note2', 'note3'])\n",
    "\n",
    "# Count the frequency of each item in 'note1', 'note2', 'note3'\n",
    "freq_item1 = y_train_check['note1'].value_counts()\n",
    "freq_item2 = y_train_check['note2'].value_counts()\n",
    "freq_item3 = y_train_check['note3'].value_counts()\n",
    "dif_1 = max(freq_item1) - min(freq_item1)\n",
    "dif_2 = max(freq_item2) - min(freq_item2)\n",
    "dif_3 = max(freq_item3) - min(freq_item3)\n",
    "\n",
    "# Create a DataFrame for the frequency data\n",
    "freq_df = pd.DataFrame({'Item1': freq_item1, 'Item2': freq_item2, 'Item3': freq_item3}).fillna(0)\n",
    "\n",
    "# Plot a bar chart\n",
    "freq_df.plot(kind='bar', figsize=(10, 6))"
   ]
  },
  {
   "cell_type": "code",
   "execution_count": 25,
   "metadata": {},
   "outputs": [
    {
     "name": "stdout",
     "output_type": "stream",
     "text": [
      "1000\n",
      "12\n",
      "25\n",
      "8\n"
     ]
    },
    {
     "data": {
      "text/plain": [
       "<Axes: >"
      ]
     },
     "execution_count": 25,
     "metadata": {},
     "output_type": "execute_result"
    },
    {
     "data": {
      "image/png": "[encoded data removed]",
      "text/plain": [
       "<Figure size 720x432 with 1 Axes>"
      ]
     },
     "metadata": {
      "needs_background": "light"
     },
     "output_type": "display_data"
    }
   ],
   "source": [
    "dif_1, dif_2, dif_3 =50, 50, 50\n",
    "num_round = 0\n",
    "while (dif_1 > 7 or dif_2 > 7 or dif_3 > 7) and num_round < 1000:\n",
    "    X_test, X_val, y_test, y_val = train_test_split(data_val_test['File Name'], data_val_test['label'], test_size=0.5)\n",
    "    # Since 'label' appears to be a string representation of a list/tuple, evaluate it\n",
    "    y_train_check = pd.DataFrame(y_test.apply(ast.literal_eval).tolist(), index=y_test.index, columns=['note1', 'note2', 'note3'])\n",
    "\n",
    "    # Count the frequency of each item in 'note1', 'note2', 'note3'\n",
    "    freq_item1 = y_train_check['note1'].value_counts()\n",
    "    freq_item2 = y_train_check['note2'].value_counts()\n",
    "    freq_item3 = y_train_check['note3'].value_counts()\n",
    "    dif_1 = max(freq_item1) - min(freq_item1)\n",
    "    dif_2 = max(freq_item2) - min(freq_item2)\n",
    "    dif_3 = max(freq_item3) - min(freq_item3)\n",
    "    num_round += 1\n",
    "\n",
    "print(num_round)\n",
    "print(dif_1)\n",
    "print(dif_2)\n",
    "print(dif_3)\n",
    "\n",
    "train_data = pd.concat([X_test, y_test], axis=1)\n",
    "val_test_data = pd.concat([X_val, y_val], axis=1)\n",
    "train_data.to_csv(\"../../data/ref_3_note_validate2.csv\", index=False)\n",
    "val_test_data.to_csv(\"../../data/ref_3_note_test2.csv\", index=False)\n",
    "\n",
    "\n",
    "# Create a DataFrame for the frequency data\n",
    "freq_df = pd.DataFrame({'Item1': freq_item1, 'Item2': freq_item2, 'Item3': freq_item3}).fillna(0)\n",
    "\n",
    "# Plot a bar chart\n",
    "freq_df.plot(kind='bar', figsize=(10, 6))"
   ]
  },
  {
   "cell_type": "code",
   "execution_count": null,
   "metadata": {},
   "outputs": [],
   "source": []
  }
 ],
 "metadata": {
  "kernelspec": {
   "display_name": "Python 3",
   "language": "python",
   "name": "python3"
  },
  "language_info": {
   "codemirror_mode": {
    "name": "ipython",
    "version": 3
   },
   "file_extension": ".py",
   "mimetype": "text/x-python",
   "name": "python",
   "nbconvert_exporter": "python",
   "pygments_lexer": "ipython3",
   "version": "3.9.6"
  }
 },
 "nbformat": 4,
 "nbformat_minor": 2
}
