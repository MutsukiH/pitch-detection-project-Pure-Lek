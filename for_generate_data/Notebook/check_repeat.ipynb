{
 "cells": [
  {
   "cell_type": "code",
   "execution_count": 1,
   "metadata": {},
   "outputs": [
    {
     "name": "stderr",
     "output_type": "stream",
     "text": [
      "C:\\Users\\user\\AppData\\Local\\Temp/ipykernel_40504/4080736814.py:1: DeprecationWarning: \n",
      "Pyarrow will become a required dependency of pandas in the next major release of pandas (pandas 3.0),\n",
      "(to allow more performant data types, such as the Arrow string type, and better interoperability with other libraries)\n",
      "but was not found to be installed on your system.\n",
      "If this would cause problems for you,\n",
      "please provide us feedback at https://github.com/pandas-dev/pandas/issues/54466\n",
      "        \n",
      "  import pandas as pd\n"
     ]
    }
   ],
   "source": [
    "import pandas as pd"
   ]
  },
  {
   "cell_type": "code",
   "execution_count": 6,
   "metadata": {},
   "outputs": [],
   "source": [
    "data_train = pd.read_csv('../../data/ref_list_multi_note_600_train.csv')\n",
    "data_validate = pd.read_csv('../../data/ref_list_multi_note_200_validate.csv')\n",
    "data_test = pd.read_csv('../../data/ref_list_multi_note_200_test.csv')\n"
   ]
  },
  {
   "cell_type": "code",
   "execution_count": 7,
   "metadata": {},
   "outputs": [],
   "source": [
    "result = pd.concat([data_train, data_validate, data_test], ignore_index=True)"
   ]
  },
  {
   "cell_type": "code",
   "execution_count": 8,
   "metadata": {},
   "outputs": [
    {
     "data": {
      "text/plain": [
       "label\n",
       "['C', 'A#', 'F']                                              1\n",
       "['D#', 'F', 'F#', 'A#', 'E']                                  1\n",
       "['C#', 'C#', 'E', 'F#', 'B']                                  1\n",
       "['D#', 'B', 'D', 'E', 'G']                                    1\n",
       "['C', 'D', 'D', 'B', 'F']                                     1\n",
       "                                                             ..\n",
       "['G', 'D', 'A#', 'G#', 'E', 'C#', 'D#']                       1\n",
       "['F#', 'B', 'D#', 'E', 'G', 'C#', 'G#']                       1\n",
       "['G', 'F#', 'F#', 'G#', 'E', 'C#', 'A#']                      1\n",
       "['A#', 'A', 'G', 'C#', 'D#', 'C', 'G']                        1\n",
       "['D#', 'G#', 'A#', 'G', 'C#', 'C#', 'C#', 'C#', 'D#', 'C']    1\n",
       "Name: count, Length: 1000, dtype: int64"
      ]
     },
     "execution_count": 8,
     "metadata": {},
     "output_type": "execute_result"
    }
   ],
   "source": [
    "result['label'].value_counts()"
   ]
  },
  {
   "cell_type": "code",
   "execution_count": null,
   "metadata": {},
   "outputs": [],
   "source": []
  }
 ],
 "metadata": {
  "kernelspec": {
   "display_name": "Python 3",
   "language": "python",
   "name": "python3"
  },
  "language_info": {
   "codemirror_mode": {
    "name": "ipython",
    "version": 3
   },
   "file_extension": ".py",
   "mimetype": "text/x-python",
   "name": "python",
   "nbconvert_exporter": "python",
   "pygments_lexer": "ipython3",
   "version": "3.9.6"
  }
 },
 "nbformat": 4,
 "nbformat_minor": 2
}
