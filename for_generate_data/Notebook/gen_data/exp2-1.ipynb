{
 "cells": [
  {
   "cell_type": "markdown",
   "metadata": {},
   "source": [
    "# 2. มี rest คั่นทุกตัว และ rest เท่ากันทั้งหมด"
   ]
  },
  {
   "cell_type": "code",
   "execution_count": 1,
   "metadata": {},
   "outputs": [],
   "source": [
    "from midiutil import MIDIFile\n",
    "from mingus.core import chords\n",
    "\n",
    "import os\n",
    "import csv\n",
    "import subprocess\n",
    "import random"
   ]
  },
  {
   "cell_type": "code",
   "execution_count": 2,
   "metadata": {},
   "outputs": [],
   "source": [
    "NOTES = [\"C\", \"C#\", \"D\", \"Eb\", \"E\", \"F\", \"F#\", \"G\", \"Ab\", \"A\", \"Bb\", \"B\"]\n",
    "OCTAVES = list(range(11))\n",
    "NOTES_IN_OCTAVE = len(NOTES)\n",
    "\n",
    "errors = {\"notes\": \"Bad input, please refer this spec-\\n\"}"
   ]
  },
  {
   "cell_type": "code",
   "execution_count": 3,
   "metadata": {},
   "outputs": [],
   "source": [
    "def swap_accidentals(note):\n",
    "    if note == \"Db\": \n",
    "        return \"C#\"\n",
    "    if note == \"D#\":\n",
    "        return \"Eb\"\n",
    "    if note == \"E#\":\n",
    "        return \"F\"\n",
    "    if note == \"Gb\":\n",
    "        return \"F#\"\n",
    "    if note == \"G#\":\n",
    "        return \"Ab\"\n",
    "    if note == \"A#\":\n",
    "        return \"Bb\"\n",
    "    if note == \"B#\":\n",
    "        return \"C\"\n"
   ]
  },
  {
   "cell_type": "code",
   "execution_count": 4,
   "metadata": {},
   "outputs": [],
   "source": [
    "def note_to_number(note: str, octave: int) -> int:\n",
    "    note = swap_accidentals(note)\n",
    "    assert note in NOTES, errors[\"notes\"]\n",
    "    assert octave in OCTAVES, errors[\"notes\"]\n",
    "\n",
    "    note = NOTES.index(note)\n",
    "    note += NOTES_IN_OCTAVE * octave\n",
    "\n",
    "    assert 0 <= note <= 127, errors[\"notes\"]\n",
    "\n",
    "    return note\n",
    "\n",
    "\n",
    "# fluidsynth_executable, '-i', C:\\Work2_2566\\Project2\\Top 18 Free Piano Soundfonts\\KAWAI good piano.sf2,      '-F', C:\\Work2_2566\\Project2\\data_real\\norest_1\\output.wav, C:\\Work2_2566\\Project2\\data_real\\norest_1\\midi_000.mid\n",
    "def fs(input_path, output_path):\n",
    "    fluidsynth_executable = \"C:\\\\Users\\\\user\\\\fluidsynth-install\\\\bin\\\\fluidsynth.exe\"\n",
    "    soundfont_path = (\n",
    "        \"C:\\\\Work1_2567\\\\Project\\\\Top_18_Free_Piano_Soundfonts\\\\Porter_Grand_Piano.sf2\"\n",
    "    )\n",
    "    midi_file = (\n",
    "        input_path\n",
    "    )\n",
    "    output_file = (\n",
    "        output_path\n",
    "    )\n",
    "\n",
    "    # Construct the command\n",
    "    command = [\n",
    "        fluidsynth_executable,\n",
    "        \"-i\",\n",
    "        soundfont_path,\n",
    "        \"-F\",\n",
    "        output_file,\n",
    "        midi_file,\n",
    "    ]\n",
    "\n",
    "    try:\n",
    "        subprocess.run(command, check=True)\n",
    "    except subprocess.CalledProcessError as e:\n",
    "        print(f\"Error: {e}\")\n",
    "\n",
    "    # delete midi file : keep only audio file\n",
    "    os.remove(midi_file)"
   ]
  },
  {
   "cell_type": "code",
   "execution_count": 5,
   "metadata": {},
   "outputs": [
    {
     "name": "stdout",
     "output_type": "stream",
     "text": [
      "[0, 1, 2, 3, 4, 5, 6, 7, 8, 9, 10, 11]\n"
     ]
    }
   ],
   "source": [
    "array_of_notes = NOTES  # ตั้งว่าจะเอาโน๊ตอะไรบ้าง\n",
    "\n",
    "array_of_note_numbers = []\n",
    "array_temp = []\n",
    "for note in range(len(array_of_notes)):\n",
    "    array_temp = []\n",
    "    OCTAVE = 4  # เปลี่ยน octive ตรงนี้\n",
    "    array_of_note_numbers.append(note)\n",
    "print(array_of_note_numbers)\n",
    "\n",
    "track = 0\n",
    "channel = 0\n",
    "time = 0  # In beats\n",
    "duration = 2  # In beats ตัวขาว\n",
    "tempo = 120  # In BPM\n",
    "volume = 255  # 0-127, as per the MIDI standard"
   ]
  },
  {
   "cell_type": "markdown",
   "metadata": {},
   "source": [
    "# 2.1.1 ลำดับของ pitch แตกต่างกัน"
   ]
  },
  {
   "cell_type": "code",
   "execution_count": 6,
   "metadata": {},
   "outputs": [],
   "source": [
    "def create_files_2_1_1(\n",
    "    array_of_note_numbers,\n",
    "    current_depth,\n",
    "    max_depth,\n",
    "    path,\n",
    "    writer,\n",
    "    rhythm,\n",
    "    rest,\n",
    "    notes_prefix=\"\",\n",
    "    indices_prefix=\"\",\n",
    "    track=0,\n",
    "    channel=0,\n",
    "    tempo=120,\n",
    "    time=0, \n",
    "    duration=2,\n",
    "    duration_rest=2,\n",
    "    volume=255,\n",
    "):\n",
    "    if current_depth == max_depth:\n",
    "        # print(indices_prefix)\n",
    "        MyMIDI = MIDIFile(1)\n",
    "        MyMIDI.addTempo(track, time, tempo)\n",
    "        note_indices = [int(x) for x in indices_prefix.split()]\n",
    "        note_indices_strip = \"\".join(indices_prefix.split())\n",
    "        label_indice = \",\".join(indices_prefix.split())\n",
    "\n",
    "        for idx in range(max_depth):\n",
    "            MyMIDI.addNote(\n",
    "                track, channel, note_indices[idx] + 48, time, duration, volume\n",
    "            )\n",
    "            time += duration\n",
    "            time += duration_rest\n",
    "\n",
    "        midi_file_name = f\"{path}/midi_{notes_prefix+note_indices_strip}.mid\"\n",
    "        with open(midi_file_name, \"wb\") as output_file:\n",
    "            MyMIDI.writeFile(output_file)\n",
    "        fs(f'{path}/midi_{notes_prefix+note_indices_strip}.mid', f'{path}/wav_{notes_prefix+note_indices_strip}.wav')\n",
    "        writer.writerow([f\"wav_{notes_prefix+note_indices_strip}.wav\", f\"[{label_indice}]\", tempo, rhythm, rest])\n",
    "    else:\n",
    "        for i, pitch in enumerate(array_of_note_numbers):\n",
    "            # print(indices_prefix)\n",
    "            create_files_2_1_1(\n",
    "                array_of_note_numbers,\n",
    "                current_depth + 1,\n",
    "                max_depth,\n",
    "                path,\n",
    "                writer,\n",
    "                rhythm,\n",
    "                rest,\n",
    "                notes_prefix + NOTES[i],\n",
    "                indices_prefix + f\"{i} \",\n",
    "            )"
   ]
  },
  {
   "cell_type": "code",
   "execution_count": 7,
   "metadata": {},
   "outputs": [
    {
     "name": "stdout",
     "output_type": "stream",
     "text": [
      "File names have been written to ../../data/exp2-1/2-1-1/file_names_exp2-1-1.csv\n"
     ]
    }
   ],
   "source": [
    "# โน้ต 3 ตัว\n",
    "rhythm = \"all white\"\n",
    "rest = \"all half rest\"\n",
    "# ระบุเส้นทางไปยังโฟลเดอร์ที่มีไฟล์ที่คุณต้องการเก็บข้อมูล\n",
    "folder_path = \"../../data/exp2-1/2-1-1\"\n",
    "# สร้างไฟล์ CSV สำหรับเก็บชื่อไฟล์\n",
    "csv_file = \"../../data/exp2-1/2-1-1/file_names_exp2-1-1.csv\"\n",
    "\n",
    "with open(csv_file, 'w', newline='') as file:\n",
    "    writer = csv.writer(file)\n",
    "    writer.writerow(['File Name', 'label', 'tempo', 'rhythm', \"rest\"])\n",
    "\n",
    "    path = \"../../data/exp2-1/2-1-1\"\n",
    "    max_depth = 3  # we have three levels of loops in the original code\n",
    "    create_files_2_1_1(array_of_note_numbers, 0, max_depth, path, writer, rhythm, rest)\n",
    "\n",
    "print(f\"File names have been written to {csv_file}\")"
   ]
  },
  {
   "cell_type": "code",
   "execution_count": null,
   "metadata": {},
   "outputs": [],
   "source": []
  },
  {
   "cell_type": "markdown",
   "metadata": {},
   "source": [
    "# 2.1.2 ลำดับของ pitch, tempo แตกต่างกัน"
   ]
  },
  {
   "cell_type": "code",
   "execution_count": 8,
   "metadata": {},
   "outputs": [],
   "source": [
    "def create_files_2_1_2(\n",
    "    array_of_note_numbers,\n",
    "    current_depth,\n",
    "    max_depth,\n",
    "    path,\n",
    "    writer,\n",
    "    rhythm,\n",
    "    rest,\n",
    "    notes_prefix=\"\",\n",
    "    indices_prefix=\"\",\n",
    "    track=0,\n",
    "    channel=0,\n",
    "    tempo=120,\n",
    "    time=0, \n",
    "    duration=2,\n",
    "    duration_rest=2,\n",
    "    volume=255,\n",
    "):\n",
    "    if current_depth == max_depth:\n",
    "        # print(indices_prefix)\n",
    "        MyMIDI = MIDIFile(1)\n",
    "        tempo = random.choice([60, 80, 100, 120, 140, 160, 180])\n",
    "        MyMIDI.addTempo(track, time, tempo)\n",
    "        note_indices = [int(x) for x in indices_prefix.split()]\n",
    "        note_indices_strip = \"\".join(indices_prefix.split())\n",
    "        label_indice = \",\".join(indices_prefix.split())\n",
    "\n",
    "        for idx in range(max_depth):\n",
    "            MyMIDI.addNote(\n",
    "                track, channel, note_indices[idx] + 48, time, duration, volume\n",
    "            )\n",
    "            time += duration\n",
    "            time += duration_rest\n",
    "\n",
    "        midi_file_name = f\"{path}/midi_{notes_prefix+note_indices_strip}.mid\"\n",
    "        with open(midi_file_name, \"wb\") as output_file:\n",
    "            MyMIDI.writeFile(output_file)\n",
    "        fs(f'{path}/midi_{notes_prefix+note_indices_strip}.mid', f'{path}/wav_{notes_prefix+note_indices_strip}.wav')\n",
    "        writer.writerow([f\"wav_{notes_prefix+note_indices_strip}.wav\", f\"[{label_indice}]\", tempo, rhythm, rest])\n",
    "    else:\n",
    "        for i, pitch in enumerate(array_of_note_numbers):\n",
    "            # print(indices_prefix)\n",
    "            create_files_2_1_2(\n",
    "                array_of_note_numbers,\n",
    "                current_depth + 1,\n",
    "                max_depth,\n",
    "                path,\n",
    "                writer,\n",
    "                rhythm,\n",
    "                rest,\n",
    "                notes_prefix + NOTES[i],\n",
    "                indices_prefix + f\"{i} \",\n",
    "            )"
   ]
  },
  {
   "cell_type": "code",
   "execution_count": 9,
   "metadata": {},
   "outputs": [
    {
     "name": "stdout",
     "output_type": "stream",
     "text": [
      "File names have been written to ../../data/exp2-1/2-1-2/file_names_exp2-1-2.csv\n"
     ]
    }
   ],
   "source": [
    "# โน้ต 3 ตัว\n",
    "rhythm = \"all white\"\n",
    "rest = \"all half rest\"\n",
    "# ระบุเส้นทางไปยังโฟลเดอร์ที่มีไฟล์ที่คุณต้องการเก็บข้อมูล\n",
    "folder_path = \"../../data/exp2-1/2-1-2\"\n",
    "# สร้างไฟล์ CSV สำหรับเก็บชื่อไฟล์\n",
    "csv_file = \"../../data/exp2-1/2-1-2/file_names_exp2-1-2.csv\"\n",
    "\n",
    "with open(csv_file, 'w', newline='') as file:\n",
    "    writer = csv.writer(file)\n",
    "    writer.writerow(['File Name', 'label', 'tempo', 'rhythm', \"rest\"])\n",
    "\n",
    "    path = \"../../data/exp2-1/2-1-2\"\n",
    "    max_depth = 3  # we have three levels of loops in the original code\n",
    "    create_files_2_1_2(array_of_note_numbers, 0, max_depth, path, writer, rhythm, rest)\n",
    "\n",
    "print(f\"File names have been written to {csv_file}\")"
   ]
  },
  {
   "cell_type": "markdown",
   "metadata": {},
   "source": [
    "# 2.1.3 ลำดับของ pitch, rhythm แตกต่างกัน"
   ]
  },
  {
   "cell_type": "code",
   "execution_count": 10,
   "metadata": {},
   "outputs": [],
   "source": [
    "def create_files_2_1_3(\n",
    "    array_of_note_numbers,\n",
    "    current_depth,\n",
    "    max_depth,\n",
    "    path,\n",
    "    writer,\n",
    "    rhythm,\n",
    "    rest,\n",
    "    notes_prefix=\"\",\n",
    "    indices_prefix=\"\",\n",
    "    track=0,\n",
    "    channel=0,\n",
    "    tempo=120,\n",
    "    time=0, \n",
    "    duration=2,\n",
    "    duration_rest=2,\n",
    "    volume=255,\n",
    "):\n",
    "    if current_depth == max_depth:\n",
    "        # print(indices_prefix)\n",
    "        MyMIDI = MIDIFile(1)\n",
    "        # tempo = random.choice([60, 80, 100, 120, 140, 160, 180])\n",
    "        rhythm = {4:\"whole\", 2:\"white\", 1:\"black\", 0.5:\"half\", 0.25:\"Quater\"}\n",
    "        MyMIDI.addTempo(track, time, tempo)\n",
    "        note_indices = [int(x) for x in indices_prefix.split()]\n",
    "        note_indices_strip = \"\".join(indices_prefix.split())\n",
    "        label_indice = \",\".join(indices_prefix.split())\n",
    "        all_rhythm = []\n",
    "        for idx in range(max_depth):\n",
    "            duration = random.choice([4, 2, 1, 0.5, 0.25])\n",
    "\n",
    "            MyMIDI.addNote(\n",
    "                track, channel, note_indices[idx] + 48, time, duration, volume\n",
    "            )\n",
    "            time += duration\n",
    "            all_rhythm.append(rhythm[duration])\n",
    "            time += duration_rest\n",
    "\n",
    "        midi_file_name = f\"{path}/midi_{notes_prefix+note_indices_strip}.mid\"\n",
    "        with open(midi_file_name, \"wb\") as output_file:\n",
    "            MyMIDI.writeFile(output_file)\n",
    "        fs(f'{path}/midi_{notes_prefix+note_indices_strip}.mid', f'{path}/wav_{notes_prefix+note_indices_strip}.wav')\n",
    "        writer.writerow([f\"wav_{notes_prefix+note_indices_strip}.wav\", f\"[{label_indice}]\", tempo, all_rhythm, rest])\n",
    "    else:\n",
    "        for i, pitch in enumerate(array_of_note_numbers):\n",
    "            # print(indices_prefix)\n",
    "            create_files_2_1_3(\n",
    "                array_of_note_numbers,\n",
    "                current_depth + 1,\n",
    "                max_depth,\n",
    "                path,\n",
    "                writer,\n",
    "                rhythm,\n",
    "                rest,\n",
    "                notes_prefix + NOTES[i],\n",
    "                indices_prefix + f\"{i} \",\n",
    "            )"
   ]
  },
  {
   "cell_type": "code",
   "execution_count": 11,
   "metadata": {},
   "outputs": [
    {
     "name": "stdout",
     "output_type": "stream",
     "text": [
      "File names have been written to ../../data/exp2-1/2-1-3/file_names_exp2-1-3.csv\n"
     ]
    }
   ],
   "source": [
    "# โน้ต 3 ตัว\n",
    "rhythm = \"all white\"\n",
    "rest = \"all half rest\"\n",
    "# ระบุเส้นทางไปยังโฟลเดอร์ที่มีไฟล์ที่คุณต้องการเก็บข้อมูล\n",
    "folder_path = \"../../data/exp2-1/2-1-3\"\n",
    "# สร้างไฟล์ CSV สำหรับเก็บชื่อไฟล์\n",
    "csv_file = \"../../data/exp2-1/2-1-3/file_names_exp2-1-3.csv\"\n",
    "\n",
    "with open(csv_file, 'w', newline='') as file:\n",
    "    writer = csv.writer(file)\n",
    "    writer.writerow(['File Name', 'label', 'tempo', 'rhythm', \"rest\"])\n",
    "\n",
    "    path = \"../../data/exp2-1/2-1-3\"\n",
    "    max_depth = 3  # we have three levels of loops in the original code\n",
    "    create_files_2_1_3(array_of_note_numbers, 0, max_depth, path, writer, rhythm, rest)\n",
    "\n",
    "print(f\"File names have been written to {csv_file}\")"
   ]
  },
  {
   "cell_type": "markdown",
   "metadata": {},
   "source": [
    "# 1.1.4 ลำดับของ pitch, rhythm, tempo แตกต่างกัน"
   ]
  },
  {
   "cell_type": "code",
   "execution_count": 12,
   "metadata": {},
   "outputs": [],
   "source": [
    "def create_files_2_1_4(\n",
    "    array_of_note_numbers,\n",
    "    current_depth,\n",
    "    max_depth,\n",
    "    path,\n",
    "    writer,\n",
    "    rhythm,\n",
    "    rest,\n",
    "    notes_prefix=\"\",\n",
    "    indices_prefix=\"\",\n",
    "    track=0,\n",
    "    channel=0,\n",
    "    tempo=120,\n",
    "    time=0, \n",
    "    duration=2,\n",
    "    duration_rest=2,\n",
    "    volume=255,\n",
    "):\n",
    "    if current_depth == max_depth:\n",
    "        # print(indices_prefix)\n",
    "        MyMIDI = MIDIFile(1)\n",
    "        tempo = random.choice([60, 80, 100, 120, 140, 160, 180])\n",
    "        rhythm = {4:\"whole\", 2:\"white\", 1:\"black\", 0.5:\"half\", 0.25:\"Quater\"}\n",
    "        MyMIDI.addTempo(track, time, tempo)\n",
    "        note_indices = [int(x) for x in indices_prefix.split()]\n",
    "        note_indices_strip = \"\".join(indices_prefix.split())\n",
    "        label_indice = \",\".join(indices_prefix.split())\n",
    "\n",
    "        all_rhythm = []\n",
    "        for idx in range(max_depth):\n",
    "            duration = random.choice([4, 2, 1, 0.5, 0.25])\n",
    "\n",
    "            MyMIDI.addNote(\n",
    "                track, channel, note_indices[idx] + 48, time, duration, volume\n",
    "            )\n",
    "            time += duration\n",
    "            all_rhythm.append(rhythm[duration])\n",
    "            time += duration_rest\n",
    "\n",
    "        midi_file_name = f\"{path}/midi_{notes_prefix+note_indices_strip}.mid\"\n",
    "        with open(midi_file_name, \"wb\") as output_file:\n",
    "            MyMIDI.writeFile(output_file)\n",
    "        fs(f'{path}/midi_{notes_prefix+note_indices_strip}.mid', f'{path}/wav_{notes_prefix+note_indices_strip}.wav')\n",
    "        writer.writerow([f\"wav_{notes_prefix+note_indices_strip}.wav\", f\"[{label_indice}]\", tempo, all_rhythm, rest])\n",
    "    else:\n",
    "        for i, pitch in enumerate(array_of_note_numbers):\n",
    "            # print(indices_prefix)\n",
    "            create_files_2_1_4(\n",
    "                array_of_note_numbers,\n",
    "                current_depth + 1,\n",
    "                max_depth,\n",
    "                path,\n",
    "                writer,\n",
    "                rhythm,\n",
    "                rest,\n",
    "                notes_prefix + NOTES[i],\n",
    "                indices_prefix + f\"{i} \",\n",
    "            )"
   ]
  },
  {
   "cell_type": "code",
   "execution_count": 13,
   "metadata": {},
   "outputs": [
    {
     "name": "stdout",
     "output_type": "stream",
     "text": [
      "File names have been written to ../../data/exp2-1/2-1-4/file_names_exp2-1-4.csv\n"
     ]
    }
   ],
   "source": [
    "# โน้ต 3 ตัว\n",
    "rhythm = \"all white\"\n",
    "rest = \"all half rest\"\n",
    "# ระบุเส้นทางไปยังโฟลเดอร์ที่มีไฟล์ที่คุณต้องการเก็บข้อมูล\n",
    "folder_path = \"../../data/exp2-1/2-1-4\"\n",
    "# สร้างไฟล์ CSV สำหรับเก็บชื่อไฟล์\n",
    "csv_file = \"../../data/exp2-1/2-1-4/file_names_exp2-1-4.csv\"\n",
    "\n",
    "with open(csv_file, 'w', newline='') as file:\n",
    "    writer = csv.writer(file)\n",
    "    writer.writerow(['File Name', 'label', 'tempo', 'rhythm', \"rest\"])\n",
    "\n",
    "    path = \"../../data/exp2-1/2-1-4\"\n",
    "    max_depth = 3  # we have three levels of loops in the original code\n",
    "    create_files_2_1_4(array_of_note_numbers, 0, max_depth, path, writer, rhythm, rest)\n",
    "\n",
    "print(f\"File names have been written to {csv_file}\")"
   ]
  }
 ],
 "metadata": {
  "kernelspec": {
   "display_name": "Python 3",
   "language": "python",
   "name": "python3"
  },
  "language_info": {
   "codemirror_mode": {
    "name": "ipython",
    "version": 3
   },
   "file_extension": ".py",
   "mimetype": "text/x-python",
   "name": "python",
   "nbconvert_exporter": "python",
   "pygments_lexer": "ipython3",
   "version": "3.9.6"
  }
 },
 "nbformat": 4,
 "nbformat_minor": 2
}
