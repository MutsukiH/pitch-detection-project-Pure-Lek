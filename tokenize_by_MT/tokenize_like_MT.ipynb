{
  "cells": [
    {
      "cell_type": "markdown",
      "metadata": {
        "colab_type": "text",
        "id": "view-in-github"
      },
      "source": [
        "<a href=\"https://colab.research.google.com/github/asigalov61/SuperPiano/blob/master/Super_Piano_3.ipynb\" target=\"_parent\"><img src=\"https://colab.research.google.com/assets/colab-badge.svg\" alt=\"Open In Colab\"/></a>"
      ]
    },
    {
      "cell_type": "markdown",
      "metadata": {
        "colab_type": "text",
        "id": "9opKSK2RSDRg"
      },
      "source": [
        "# Super Piano 3: Google Music Transformer\n",
        "## Generating Music with Long-Term structure\n",
        "### Based on 2019 ICLR paper by Cheng-Zhi Anna Huang, Google Brain and Damon Gwinn's code/repo https://github.com/gwinndr/MusicTransformer-Pytorch\n",
        "\n",
        "Huge thanks go out to the following people who contributed the code/repos used in this colab. Additional contributors are listed in the code as well.\n",
        "\n",
        "1) Kevin-Yang https://github.com/jason9693/midi-neural-processor\n",
        "\n",
        "2) gudgud96 for fixing Kevin's MIDI Encoder properly https://github.com/gudgud96\n",
        "\n",
        "2) jinyi12, Zac Koh, Akamight, Zhang https://github.com/COMP6248-Reproducability-Challenge/music-transformer-comp6248\n",
        "\n",
        "Thank you so much for your hard work and for sharing it with the world :)\n"
      ]
    },
    {
      "cell_type": "markdown",
      "metadata": {
        "colab_type": "text",
        "id": "05hD19W0hSCP"
      },
      "source": [
        "###Setup Environment and Dependencies. Check GPU."
      ]
    },
    {
      "cell_type": "code",
      "execution_count": 47,
      "metadata": {
        "cellView": "form",
        "colab": {},
        "colab_type": "code",
        "id": "VM71tUPVfffi"
      },
      "outputs": [],
      "source": [
        "#@title Import all needed modules\n",
        "import numpy as np\n",
        "import pickle\n",
        "import os\n",
        "import sys\n",
        "import math\n",
        "import random\n",
        "# For plotting\n",
        "import pypianoroll\n",
        "from pypianoroll import Multitrack, Track\n",
        "import matplotlib\n",
        "import matplotlib.pyplot as plt\n",
        "#matplotlib.use('SVG')\n",
        "#%matplotlib inline\n",
        "#matplotlib.get_backend()\n",
        "# import mir_eval.display\n",
        "import librosa\n",
        "import librosa.display\n",
        "# For rendering output audio\n",
        "import pretty_midi\n",
        "from midi2audio import FluidSynth\n",
        "# from google.colab import output\n",
        "from IPython.display import display, Javascript, HTML, Audio"
      ]
    },
    {
      "cell_type": "code",
      "execution_count": 48,
      "metadata": {
        "cellView": "form",
        "colab": {},
        "colab_type": "code",
        "id": "yXiyUuuonMqM"
      },
      "outputs": [],
      "source": [
        "# #@title Prepare directory sctructure and MIDI processor\n",
        "# %cd /con/tent/\n",
        "# !mv midi-neural-processor midi_processor\n",
        "# %cd /content/MusicTransformer-Pytorch/"
      ]
    },
    {
      "cell_type": "code",
      "execution_count": 49,
      "metadata": {
        "cellView": "form",
        "colab": {},
        "colab_type": "code",
        "id": "vN-bpkEGxSMY"
      },
      "outputs": [
        {
          "name": "stdout",
          "output_type": "stream",
          "text": [
            "Preprocessing midi files and saving to ./model_ref_MT\n",
            "Found 1000 pieces\n",
            "Preprocessing custom data...\n",
            "50 / 1000\n",
            "100 / 1000\n",
            "150 / 1000\n",
            "200 / 1000\n",
            "250 / 1000\n",
            "300 / 1000\n",
            "350 / 1000\n",
            "400 / 1000\n",
            "450 / 1000\n",
            "500 / 1000\n",
            "550 / 1000\n",
            "600 / 1000\n",
            "650 / 1000\n",
            "700 / 1000\n",
            "750 / 1000\n",
            "800 / 1000\n",
            "850 / 1000\n",
            "900 / 1000\n",
            "950 / 1000\n",
            "1000 / 1000\n",
            "Done!\n",
            "\n"
          ]
        }
      ],
      "source": [
        "exp = [5, 2, 1]\n",
        "#@title Process MAESTRO MIDI DataSet\n",
        "!python3 preprocess_midi.py '../data_mt3/exp{exp[0]}-{exp[1]}/{exp[0]}-{exp[1]}-{exp[2]}'"
      ]
    },
    {
      "cell_type": "code",
      "execution_count": 50,
      "metadata": {},
      "outputs": [],
      "source": [
        "import pandas as pd\n",
        "\n",
        "# อ่านไฟล์ CSV\n",
        "df1 = pd.read_csv(f'../model_ref_MT/data_tokenize/tokenize{exp[0]}-{exp[1]}-{exp[2]}.csv')\n",
        "df2 = pd.read_csv(f'../data/exp{exp[0]}-{exp[1]}/{exp[0]}-{exp[1]}-{exp[2]}/file_names_mt3_exp{exp[0]}-{exp[1]}-{exp[2]}_train.csv')\n",
        "joined_df = pd.merge(df1, df2, on='File Name wav', how='inner')\n",
        "joined_df = joined_df.rename(columns={\n",
        "    'label_x': 'label',\n",
        "    'label_y': 'label_mt3'\n",
        "    # เพิ่มชื่อคอลัมน์ที่ต้องการเปลี่ยนเพิ่มเติมที่นี่\n",
        "})\n",
        "# เลือกคอลัมน์ที่ต้องการ\n",
        "selected_columns = ['File Name wav','label','tempo','rhythm','rest','num of pitch','File Name midi']\n",
        "result_df = joined_df[selected_columns]\n",
        "# บันทึกเป็นไฟล์ CSV ใหม่\n",
        "result_df.to_csv(f'../data/exp{exp[0]}-{exp[1]}/{exp[0]}-{exp[1]}-{exp[2]}/file_names_MT_exp{exp[0]}-{exp[1]}-{exp[2]}_train.csv', index=False)\n",
        "\n",
        "\n",
        "# อ่านไฟล์ CSV\n",
        "\n",
        "df2 = pd.read_csv(f'../data/exp{exp[0]}-{exp[1]}/{exp[0]}-{exp[1]}-{exp[2]}/file_names_mt3_exp{exp[0]}-{exp[1]}-{exp[2]}_test.csv')\n",
        "joined_df = pd.merge(df1, df2, on='File Name wav', how='inner')\n",
        "joined_df = joined_df.rename(columns={\n",
        "    'label_x': 'label',\n",
        "    'label_y': 'label_mt3'\n",
        "    # เพิ่มชื่อคอลัมน์ที่ต้องการเปลี่ยนเพิ่มเติมที่นี่\n",
        "})\n",
        "# เลือกคอลัมน์ที่ต้องการ\n",
        "selected_columns = ['File Name wav','label','tempo','rhythm','rest','num of pitch','File Name midi']\n",
        "result_df = joined_df[selected_columns]\n",
        "# บันทึกเป็นไฟล์ CSV ใหม่\n",
        "result_df.to_csv(f'../data/exp{exp[0]}-{exp[1]}/{exp[0]}-{exp[1]}-{exp[2]}/file_names_MT_exp{exp[0]}-{exp[1]}-{exp[2]}_test.csv', index=False)\n",
        "\n",
        "\n",
        "# อ่านไฟล์ CSV\n",
        "\n",
        "df2 = pd.read_csv(f'../data/exp{exp[0]}-{exp[1]}/{exp[0]}-{exp[1]}-{exp[2]}/file_names_mt3_exp{exp[0]}-{exp[1]}-{exp[2]}_validate.csv')\n",
        "joined_df = pd.merge(df1, df2, on='File Name wav', how='inner')\n",
        "joined_df = joined_df.rename(columns={\n",
        "    'label_x': 'label',\n",
        "    'label_y': 'label_mt3'\n",
        "    # เพิ่มชื่อคอลัมน์ที่ต้องการเปลี่ยนเพิ่มเติมที่นี่\n",
        "})\n",
        "# เลือกคอลัมน์ที่ต้องการ\n",
        "selected_columns = ['File Name wav','label','tempo','rhythm','rest','num of pitch','File Name midi']\n",
        "result_df = joined_df[selected_columns]\n",
        "# บันทึกเป็นไฟล์ CSV ใหม่\n",
        "result_df.to_csv(f'../data/exp{exp[0]}-{exp[1]}/{exp[0]}-{exp[1]}-{exp[2]}/file_names_MT_exp{exp[0]}-{exp[1]}-{exp[2]}_validate.csv', index=False)"
      ]
    }
  ],
  "metadata": {
    "accelerator": "GPU",
    "colab": {
      "collapsed_sections": [],
      "include_colab_link": true,
      "machine_shape": "hm",
      "name": "Super_Piano_3.ipynb",
      "provenance": []
    },
    "kernelspec": {
      "display_name": "Python 3",
      "name": "python3"
    },
    "language_info": {
      "codemirror_mode": {
        "name": "ipython",
        "version": 3
      },
      "file_extension": ".py",
      "mimetype": "text/x-python",
      "name": "python",
      "nbconvert_exporter": "python",
      "pygments_lexer": "ipython3",
      "version": "3.10.12"
    }
  },
  "nbformat": 4,
  "nbformat_minor": 0
}
