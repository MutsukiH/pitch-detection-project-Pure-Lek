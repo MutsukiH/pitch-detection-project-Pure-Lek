{
  "nbformat": 4,
  "nbformat_minor": 0,
  "metadata": {
    "colab": {
      "provenance": []
    },
    "kernelspec": {
      "name": "python3",
      "display_name": "Python 3"
    },
    "language_info": {
      "name": "python"
    }
  },
  "cells": [
    {
      "cell_type": "code",
      "source": [
        "#รันแล้ว output ไม่ออกอะ"
      ],
      "metadata": {
        "id": "qlh6X0u8zwhR"
      },
      "execution_count": null,
      "outputs": []
    },
    {
      "cell_type": "code",
      "source": [
        "import numpy as np\n",
        "import math\n",
        "import wave\n",
        "import os\n",
        "import struct\n",
        "import matplotlib.pyplot as plt\n",
        "from IPython.display import Audio\n",
        "from scipy.io import wavfile"
      ],
      "metadata": {
        "id": "gwYJ-yR4OzrM"
      },
      "execution_count": 11,
      "outputs": []
    },
    {
      "cell_type": "code",
      "source": [
        "def note_detect(audio_file):\n",
        "\tfile_length=audio_file.getnframes()\n",
        "\tf_s=audio_file.getframerate() #sampling frequency\n",
        "\tsound = np.zeros(file_length) #blank array"
      ],
      "metadata": {
        "id": "YJg-yN7hPTKr"
      },
      "execution_count": 12,
      "outputs": []
    },
    {
      "cell_type": "code",
      "source": [
        "def note_detect(audio_file):\n",
        "\n",
        "\t#-------------------------------------------\n",
        "\t#here we are just storing our sound file as a numpy array\n",
        "\t#you can also use any other method to store the file as an np array\n",
        "\tfile_length=audio_file.getnframes()\n",
        "\tf_s=audio_file.getframerate() #sampling frequency\n",
        "\tsound = np.zeros(file_length) #blank array\n",
        "\n",
        "\n",
        "\n",
        "\tfor i in range(file_length) :\n",
        "\t\twdata=audio_file.readframes(1)\n",
        "\t\tdata=struct.unpack(\"<h\",wdata)\n",
        "\t\tsound[i] = int(data[0])\n",
        "\n",
        "\tplt.plot(sound)\n",
        "\tplt.show()\n",
        "\n",
        "\tsound=np.divide(sound,float(2**15)) #scaling it to 0 - 1\n",
        "\tcounter = audio_file.getnchannels() #number of channels mono/sterio\n",
        "\t#-------------------------------------------\n",
        "\n",
        "\tplt.plot(sound)\n",
        "\tplt.show()\n",
        "\n",
        "\t#fourier transformation from numpy module\n",
        "\tfourier = np.fft.fft(sound)\n",
        "\tfourier = np.absolute(fourier)\n",
        "\timax=np.argmax(fourier[0:int(file_length/2)]) #index of max element\n",
        "\n",
        "\tplt.plot(fourier)\n",
        "\tplt.show()\n",
        "\n",
        "\t#peak detection\n",
        "\ti_begin = -1\n",
        "\tthreshold = 0.3 * fourier[imax]\n",
        "\tfor i in range (0,imax+100):\n",
        "\t\tif fourier[i] >= threshold:\n",
        "\t\t\tif(i_begin==-1):\n",
        "\t\t\t\ti_begin = i\n",
        "\t\tif(i_begin!=-1 and fourier[i]<threshold):\n",
        "\t\t\tbreak\n",
        "\ti_end = i\n",
        "\timax = np.argmax(fourier[0:i_end+100])\n",
        "\n",
        "\tfreq=(imax*f_s)/(file_length*counter) #formula to convert index into sound frequency\n",
        "\n",
        "\t#frequency database\n",
        "\tnote=0\n",
        "\tname = np.array([\"C0\",\"C#0\",\"D0\",\"D#0\",\"E0\",\"F0\",\"F#0\",\"G0\",\"G#0\",\"A0\",\"A#0\",\"B0\",\"C1\",\"C#1\",\"D1\",\"D#1\",\"E1\",\"F1\",\"F#1\",\"G1\",\"G#1\",\"A1\",\"A#1\",\"B1\",\"C2\",\"C#2\",\"D2\",\"D#2\",\"E2\",\"F2\",\"F#2\",\"G2\",\"G2#\",\"A2\",\"A2#\",\"B2\",\"C3\",\"C3#\",\"D3\",\"D3#\",\"E3\",\"F3\",\"F3#\",\"G3\",\"G3#\",\"A3\",\"A3#\",\"B3\",\"C4\",\"C4#\",\"D4\",\"D4#\",\"E4\",\"F4\",\"F4#\",\"G4\",\"G4#\",\"A4\",\"A4#\",\"B4\",\"C5\",\"C5#\",\"D5\",\"D5#\",\"E5\",\"F5\",\"F5#\",\"G5\",\"G5#\",\"A5\",\"A5#\",\"B5\",\"C6\",\"C6#\",\"D6\",\"D6#\",\"E6\",\"F6\",\"F6#\",\"G6\",\"G6#\",\"A6\",\"A6#\",\"B6\",\"C7\",\"C7#\",\"D7\",\"D7#\",\"E7\",\"F7\",\"F7#\",\"G7\",\"G7#\",\"A7\",\"A7#\",\"B7\",\"C8\",\"C8#\",\"D8\",\"D8#\",\"E8\",\"F8\",\"F8#\",\"G8\",\"G8#\",\"A8\",\"A8#\",\"B8\",\"Beyond B8\"])\n",
        "\tfrequencies = np.array([16.35,17.32,18.35,19.45,20.60,21.83,23.12,24.50,25.96\t,27.50\t,29.14\t,30.87\t,32.70\t,34.65\t,36.71\t,38.89\t,41.20\t,43.65\t,46.25\t,49.00\t,51.91\t,55.00\t,58.27\t,61.74\t,65.41\t,69.30\t,73.42\t,77.78\t,82.41\t,87.31\t,92.50\t,98.00\t,103.83\t,110.00\t,116.54\t,123.47\t,130.81\t,138.59\t,146.83\t,155.56\t,164.81\t,174.61\t,185.00\t,196.00\t,207.65\t,220.00\t,233.08\t,246.94\t,261.63\t,277.18\t,293.66\t,311.13\t,329.63\t,349.23\t,369.99\t,392.00\t,415.30\t,440.00\t,466.16\t,493.88\t,523.25\t,554.37\t,587.33\t,622.25\t,659.26\t,698.46\t,739.99\t,783.99\t,830.61\t,880.00\t,932.33\t,987.77\t,1046.50\t,1108.73\t,1174.66\t,1244.51\t,1318.51\t,1396.91\t,1479.98\t,1567.98\t,1661.22\t,1760.00\t,1864.66\t,1975.53\t,2093.00\t,2217.46\t,2349.32\t,2489.02\t,2637.02\t,2793.83\t,2959.96\t,3135.96\t,3322.44\t,3520.00\t,3729.31\t,3951.07\t,4186.01\t,4434.92\t,4698.64\t,4978.03\t,5274.04\t,5587.65\t,5919.91\t,6271.93\t,6644.88\t,7040.00\t,7458.62\t,7902.13,8000])\n",
        "\n",
        "\t#searching for matched frequencies\n",
        "\tfor i in range(0,frequencies.size-1):\n",
        "\t\t\tif(freq<frequencies[0]):\n",
        "\t\t\t\tnote=name[0]\n",
        "\t\t\t\tbreak\n",
        "\t\t\tif(freq>frequencies[-1]):\n",
        "\t\t\t\tnote=name[-1]\n",
        "\t\t\t\tbreak\n",
        "\t\t\tif freq>=frequencies[i] and frequencies[i+1]>=freq :\n",
        "\t\t\t\tif freq-frequencies[i]<(frequencies[i+1]-frequencies[i])/2 :\n",
        "\t\t\t\t\tnote=name[i]\n",
        "\t\t\t\telse :\n",
        "\t\t\t\t\tnote=name[i+1]\n",
        "\t\t\t\tbreak\n",
        "\n",
        "\n",
        "\treturn note"
      ],
      "metadata": {
        "id": "h8zlxPAC5EVa"
      },
      "execution_count": 6,
      "outputs": []
    },
    {
      "cell_type": "code",
      "source": [
        "# from google.colab import drive\n",
        "# drive.mount('/content/drive/')\n",
        "# # sound_file = '/content/drive/MyDrive/Colab Notebooks/content/c4.wav'\n",
        "# # Audio(sound_file, autoplay=True)"
      ],
      "metadata": {
        "id": "LeQrxVtJ7vwd"
      },
      "execution_count": 20,
      "outputs": []
    },
    {
      "cell_type": "code",
      "source": [
        "audio_file = wave.open(\"c4.wav\")"
      ],
      "metadata": {
        "id": "WcfLQZya-N5u"
      },
      "execution_count": 18,
      "outputs": []
    },
    {
      "cell_type": "code",
      "source": [
        "if __name__ == \"__main__\":\n",
        "\n",
        "\tpath = os.getcwd()\n",
        "\tfile_name = path + \"/d2.wav\"\n",
        "\taudio_file = wave.open(\"c6.wav\") #ชื่อไฟล์\n",
        "\tDetected_Note = note_detect(audio_file)\n",
        "\tprint(\"\\n\\tDetected Note = \" + str(Detected_Note))\n"
      ],
      "metadata": {
        "colab": {
          "base_uri": "https://localhost:8080/"
        },
        "id": "8NUijy6L7fYH",
        "outputId": "4086d39e-d1c4-4449-cc5e-211e3d567c59"
      },
      "execution_count": 23,
      "outputs": [
        {
          "output_type": "stream",
          "name": "stdout",
          "text": [
            "\n",
            "\tDetected Note = None\n"
          ]
        }
      ]
    }
  ]
}